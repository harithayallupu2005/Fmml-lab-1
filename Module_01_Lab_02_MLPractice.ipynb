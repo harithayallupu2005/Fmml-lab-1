{
  "nbformat": 4,
  "nbformat_minor": 0,
  "metadata": {
    "colab": {
      "provenance": [],
      "include_colab_link": true
    },
    "kernelspec": {
      "name": "python3",
      "display_name": "Python 3"
    },
    "language_info": {
      "name": "python"
    }
  },
  "cells": [
    {
      "cell_type": "markdown",
      "metadata": {
        "id": "view-in-github",
        "colab_type": "text"
      },
      "source": [
        "<a href=\"https://colab.research.google.com/github/harithayallupu2005/Fmml-lab-1/blob/main/Module_01_Lab_02_MLPractice.ipynb\" target=\"_parent\"><img src=\"https://colab.research.google.com/assets/colab-badge.svg\" alt=\"Open In Colab\"/></a>"
      ]
    },
    {
      "cell_type": "markdown",
      "metadata": {
        "id": "3Eu9VZbF01eq"
      },
      "source": [
        "# Machine learning terms and metrics\n",
        "\n",
        "FMML Module 1, Lab 2<br>\n",
        "\n",
        "\n",
        " In this lab, we will show a part of the ML pipeline by extracting features, training and testing"
      ]
    },
    {
      "cell_type": "code",
      "metadata": {
        "id": "8qBvyEem0vLi"
      },
      "source": [
        "import matplotlib.pyplot as plt\n",
        "import numpy as np\n",
        "from sklearn import datasets\n",
        "# set randomseed\n",
        "rng = np.random.default_rng(seed=42)"
      ],
      "execution_count": null,
      "outputs": []
    },
    {
      "cell_type": "markdown",
      "metadata": {
        "id": "u3t59g5s1HfC"
      },
      "source": [
        "In this lab, we will use the California Housing dataset. There are 20640 samples, each with 8 attributes like income of the block, age of the houses per district etc. The task is to predict the cost of the houses per district.\n",
        "\n",
        "Let us download and examine the dataset."
      ]
    },
    {
      "cell_type": "code",
      "metadata": {
        "id": "8LpqjN991GGJ",
        "colab": {
          "base_uri": "https://localhost:8080/"
        },
        "outputId": "7ddd7529-41db-42b0-be30-0b73dd597ddf"
      },
      "source": [
        " dataset =  datasets.fetch_california_housing()\n",
        " # print(dataset.DESCR)  # uncomment this if you want to know more about this dataset\n",
        " # print(dataset.keys())  # if you want to know what else is there in this dataset\n",
        " dataset.target = dataset.target.astype(np.int) # so that we can classify\n",
        " print(dataset.data.shape)\n",
        " print(dataset.target.shape)"
      ],
      "execution_count": null,
      "outputs": [
        {
          "output_type": "stream",
          "name": "stdout",
          "text": [
            "(20640, 8)\n",
            "(20640,)\n"
          ]
        },
        {
          "output_type": "stream",
          "name": "stderr",
          "text": [
            "<ipython-input-50-60ae2e9a125e>:4: DeprecationWarning: `np.int` is a deprecated alias for the builtin `int`. To silence this warning, use `int` by itself. Doing this will not modify any behavior and is safe. When replacing `np.int`, you may wish to use e.g. `np.int64` or `np.int32` to specify the precision. If you wish to review your current use, check the release note link for additional information.\n",
            "Deprecated in NumPy 1.20; for more details and guidance: https://numpy.org/devdocs/release/1.20.0-notes.html#deprecations\n",
            "  dataset.target = dataset.target.astype(np.int) # so that we can classify\n"
          ]
        }
      ]
    },
    {
      "cell_type": "markdown",
      "metadata": {
        "id": "iNx4174W5xRg"
      },
      "source": [
        "Here is a function for calculating the 1-nearest neighbours"
      ]
    },
    {
      "cell_type": "code",
      "metadata": {
        "id": "07zpydQj1hIQ"
      },
      "source": [
        "def NN1(traindata, trainlabel, query):\n",
        "  diff  = traindata - query  # find the difference between features. Numpy automatically takes care of the size here\n",
        "  sq = diff*diff # square the differences\n",
        "  dist = sq.sum(1) # add up the squares\n",
        "  label = trainlabel[np.argmin(dist)] # our predicted label is the label of the training data which has the least distance from the query\n",
        "  return label\n",
        "\n",
        "def NN(traindata, trainlabel, testdata):\n",
        "  # we will run nearest neighbour for each sample in the test data\n",
        "  # and collect the predicted classes in an array using list comprehension\n",
        "  predlabel = np.array([NN1(traindata, trainlabel, i) for i in testdata])\n",
        "  return predlabel"
      ],
      "execution_count": null,
      "outputs": []
    },
    {
      "cell_type": "markdown",
      "metadata": {
        "id": "03JktkfIGaje"
      },
      "source": [
        "We will also define a 'random classifier', which randomly allots labels to each sample"
      ]
    },
    {
      "cell_type": "code",
      "metadata": {
        "id": "fogWAtjyGhAH"
      },
      "source": [
        "def RandomClassifier(traindata, trainlabel, testdata):\n",
        "  # in reality, we don't need these arguments\n",
        "\n",
        "  classes = np.unique(trainlabel)\n",
        "  rints = rng.integers(low=0, high=len(classes), size=len(testdata))\n",
        "  predlabel = classes[rints]\n",
        "  return predlabel"
      ],
      "execution_count": null,
      "outputs": []
    },
    {
      "cell_type": "markdown",
      "metadata": {
        "id": "1Hjf1KHs7fU5"
      },
      "source": [
        "Let us define a metric 'Accuracy' to see how good our learning algorithm is. Accuracy is the ratio of the number of correctly classified samples to the total number of samples. The higher the accuracy, the better the algorithm."
      ]
    },
    {
      "cell_type": "code",
      "metadata": {
        "id": "ouuCqWU07bz-"
      },
      "source": [
        "def Accuracy(gtlabel, predlabel):\n",
        "  assert len(gtlabel)==len(predlabel), \"Length of the groundtruth labels and predicted labels should be the same\"\n",
        "  correct = (gtlabel==predlabel).sum() # count the number of times the groundtruth label is equal to the predicted label.\n",
        "  return correct/len(gtlabel)"
      ],
      "execution_count": null,
      "outputs": []
    },
    {
      "cell_type": "markdown",
      "metadata": {
        "id": "4vJFwBFa9Klw"
      },
      "source": [
        "Let us make a function to split the dataset with the desired probability."
      ]
    },
    {
      "cell_type": "code",
      "metadata": {
        "id": "Ko0VzpSM2Tdi"
      },
      "source": [
        "def split(data, label, percent):\n",
        "  # generate a random number for each sample\n",
        "  rnd = rng.random(len(label))\n",
        "  split1 = rnd<percent\n",
        "  split2 = rnd>=percent\n",
        "  split1data = data[split1,:]\n",
        "  split1label = label[split1]\n",
        "  split2data = data[split2,:]\n",
        "  split2label = label[split2]\n",
        "  return split1data, split1label, split2data, split2label"
      ],
      "execution_count": null,
      "outputs": []
    },
    {
      "cell_type": "markdown",
      "metadata": {
        "id": "AcK3LEAJ_LGC"
      },
      "source": [
        "We will reserve 20% of our dataset as the test set. We will not change this portion throughout our experiments"
      ]
    },
    {
      "cell_type": "code",
      "metadata": {
        "id": "bBZkHBLJ1iU-",
        "colab": {
          "base_uri": "https://localhost:8080/"
        },
        "outputId": "ac53f8e0-7957-4edd-8fc4-726937eafe4b"
      },
      "source": [
        "testdata, testlabel, alltraindata, alltrainlabel = split(dataset.data, dataset.target, 20/100)\n",
        "print('Number of test samples = ', len(testlabel))\n",
        "print('Number of other samples = ', len(alltrainlabel))\n",
        "print('Percent of test data = ', len(testlabel)*100/len(dataset.target),'%')"
      ],
      "execution_count": null,
      "outputs": [
        {
          "output_type": "stream",
          "name": "stdout",
          "text": [
            "Number of test samples =  4144\n",
            "Number of other samples =  16496\n",
            "Percent of test data =  20.07751937984496 %\n"
          ]
        }
      ]
    },
    {
      "cell_type": "markdown",
      "metadata": {
        "id": "a6Ss0Z6IAGNV"
      },
      "source": [
        "## Experiments with splits\n",
        "\n",
        "Let us reserve some of our train data as a validation set"
      ]
    },
    {
      "cell_type": "code",
      "metadata": {
        "id": "WFew2iry_7W7"
      },
      "source": [
        "traindata, trainlabel, valdata, vallabel = split(alltraindata, alltrainlabel, 75/100)"
      ],
      "execution_count": null,
      "outputs": []
    },
    {
      "cell_type": "markdown",
      "metadata": {
        "id": "60hiu4clFN1i"
      },
      "source": [
        "What is the accuracy of our classifiers on the train dataset?"
      ]
    },
    {
      "cell_type": "code",
      "metadata": {
        "id": "DBlZDTHUFTZx",
        "colab": {
          "base_uri": "https://localhost:8080/"
        },
        "outputId": "7bc359af-d8a1-47b7-c4c0-93b84263348a"
      },
      "source": [
        "trainpred = NN(traindata, trainlabel, traindata)\n",
        "trainAccuracy = Accuracy(trainlabel, trainpred)\n",
        "print(\"Train accuracy using nearest neighbour is \", trainAccuracy)\n",
        "\n",
        "trainpred = RandomClassifier(traindata, trainlabel, traindata)\n",
        "trainAccuracy = Accuracy(trainlabel, trainpred)\n",
        "print(\"Train accuracy using random classifier is \", trainAccuracy)"
      ],
      "execution_count": null,
      "outputs": [
        {
          "output_type": "stream",
          "name": "stdout",
          "text": [
            "Train accuracy using nearest neighbour is  1.0\n",
            "Train accuracy using random classifier is  0.164375808538163\n"
          ]
        }
      ]
    },
    {
      "cell_type": "markdown",
      "metadata": {
        "id": "7h08-9gJDtSy"
      },
      "source": [
        "For nearest neighbour, the train accuracy is always 1. The accuracy of the random classifier is close to 1/(number of classes) which is 0.1666 in our case.\n",
        "\n",
        "Let us predict the labels for our validation set and get the accuracy"
      ]
    },
    {
      "cell_type": "code",
      "metadata": {
        "id": "4h7bXoW_2H3v",
        "colab": {
          "base_uri": "https://localhost:8080/"
        },
        "outputId": "8de8d2d7-3ee7-426a-dae5-5c3cb03ca05f"
      },
      "source": [
        "valpred = NN(traindata, trainlabel, valdata)\n",
        "valAccuracy = Accuracy(vallabel, valpred)\n",
        "print(\"Validation accuracy using nearest neighbour is \", valAccuracy)\n",
        "\n",
        "valpred = RandomClassifier(traindata, trainlabel, valdata)\n",
        "valAccuracy = Accuracy(vallabel, valpred)\n",
        "print(\"Validation accuracy using random classifier is \", valAccuracy)"
      ],
      "execution_count": null,
      "outputs": [
        {
          "output_type": "stream",
          "name": "stdout",
          "text": [
            "Validation accuracy using nearest neighbour is  0.34108527131782945\n",
            "Validation accuracy using random classifier is  0.1688468992248062\n"
          ]
        }
      ]
    },
    {
      "cell_type": "markdown",
      "metadata": {
        "id": "py9bLguFEjfg"
      },
      "source": [
        "Validation accuracy of nearest neighbour is considerably less than its train accuracy while the validation accuracy of random classifier is the same. However, the validation accuracy of nearest neighbour is twice that of the random classifier.\n",
        "\n",
        "Now let us try another random split and check the validation accuracy"
      ]
    },
    {
      "cell_type": "code",
      "metadata": {
        "id": "ujm3cyYzEntE",
        "colab": {
          "base_uri": "https://localhost:8080/"
        },
        "outputId": "f6d193c9-85e8-4135-afd3-a1a6f9f6e80f"
      },
      "source": [
        "traindata, trainlabel, valdata, vallabel = split(alltraindata, alltrainlabel, 75/100)\n",
        "valpred = NN(traindata, trainlabel, valdata)\n",
        "valAccuracy = Accuracy(vallabel, valpred)\n",
        "print(\"Validation accuracy of nearest neighbour is \", valAccuracy)"
      ],
      "execution_count": null,
      "outputs": [
        {
          "output_type": "stream",
          "name": "stdout",
          "text": [
            "Validation accuracy of nearest neighbour is  0.34048257372654156\n"
          ]
        }
      ]
    },
    {
      "cell_type": "markdown",
      "metadata": {
        "id": "oSOx7U83EKie"
      },
      "source": [
        "You can run the above cell multiple times to try with different random splits.\n",
        "We notice that the accuracy is different for each run, but close together.\n",
        "\n",
        "Now let us compare it with the accuracy we get on the test dataset."
      ]
    },
    {
      "cell_type": "code",
      "metadata": {
        "id": "PNEZ5ToYBEDW",
        "colab": {
          "base_uri": "https://localhost:8080/"
        },
        "outputId": "c6a172f4-75ba-425e-de75-ac73c88ee93b"
      },
      "source": [
        "testpred = NN(alltraindata, alltrainlabel, testdata)\n",
        "testAccuracy = Accuracy(testlabel, testpred)\n",
        "print('Test accuracy is ', testAccuracy)"
      ],
      "execution_count": null,
      "outputs": [
        {
          "output_type": "stream",
          "name": "stdout",
          "text": [
            "Test accuracy is  0.34917953667953666\n"
          ]
        }
      ]
    },
    {
      "cell_type": "markdown",
      "metadata": {
        "id": "w3dGD531K3gH"
      },
      "source": [
        "### Try it out for yourself and answer:\n",
        "1. How is the accuracy of the validation set affected if we increase the percentage of validation set? What happens when we reduce it?\n",
        "2. How does the size of the train and validation set affect how well we can predict the accuracy on the test set using the validation set?\n",
        "3. What do you think is a good percentage to reserve for the validation set so that thest two factors are balanced?\n",
        "\n",
        "Answer for both nearest neighbour and random classifier. You can note down the values for your experiments and plot a graph using  <a href=https://matplotlib.org/stable/gallery/lines_bars_and_markers/step_demo.html#sphx-glr-gallery-lines-bars-and-markers-step-demo-py>plt.plot<href>. Check also for extreme values for splits, like 99.9% or 0.1%"
      ]
    },
    {
      "cell_type": "markdown",
      "source": [
        "# **QUESTION-1:**\n",
        "# **How is the accuracy of the validation set affected if we increase the percentage of validation set?What happens when we reduce it?**\n",
        "\n",
        "**Ans:** The accuracy of the validation set will generally increase as the percentage of validation set increases.This is because the model will have less data to overfit to,and will therefore be more generalizable to new data.However,if the percentage of validation set becomes to large,the model may not have enough data to learn from,and its accuracy may start to decrease.On the other hand,if we reduce the percentage of the validation set,the accuracy might decrease because the model has less data to validate its performance.\n",
        "\n"
      ],
      "metadata": {
        "id": "L-4D7lcPyD5b"
      }
    },
    {
      "cell_type": "code",
      "source": [
        "import numpy as np\n",
        "from sklearn.model_selection import train_test_split\n",
        "from sklearn.linear_model import LogisticRegression\n",
        "from sklearn.metrics import accuracy_score\n",
        "x,y = np.random.rand(100,10),np.random.randint(0,2,100)\n",
        "validation_percentages = [0.1,0.2,0.3,0.4,0.5]\n",
        "for val_percentage in validation_percentages:\n",
        "  x_train,x_val,y_train,y_val = train_test_split(x,y,test_size=val_percentage,random_state=42)\n",
        "  model= LogisticRegression()\n",
        "  model.fit(x_train,y_train)\n",
        "  y_pred=model.predict(x_val)\n",
        "  accuracy = accuracy_score(y_val, y_pred)\n",
        "  print(f\"validation Set Percentage: {val_percentage * 100}% | Accuracy: {accuracy * 100:.2f}%\")"
      ],
      "metadata": {
        "colab": {
          "base_uri": "https://localhost:8080/"
        },
        "id": "0t-c8Ga6vXw1",
        "outputId": "c505c013-c690-46b7-ee1b-6f64c1ad5459"
      },
      "execution_count": null,
      "outputs": [
        {
          "output_type": "stream",
          "name": "stdout",
          "text": [
            "validation Set Percentage: 10.0% | Accuracy: 50.00%\n",
            "validation Set Percentage: 20.0% | Accuracy: 45.00%\n",
            "validation Set Percentage: 30.0% | Accuracy: 40.00%\n",
            "validation Set Percentage: 40.0% | Accuracy: 45.00%\n",
            "validation Set Percentage: 50.0% | Accuracy: 42.00%\n"
          ]
        }
      ]
    },
    {
      "cell_type": "markdown",
      "source": [
        "# **QUESTION-2:**\n",
        "# **How does the size of the train and validation set affect how well we can predict the accuracy on the test using the validation set?**\n",
        "\n",
        "**Ans:** The size of the train and validation sets can affect how well we can predict the accuracy on the test using the validation set.If we have a larger training set,the model can learn more patterns and potentially perform better on the test set. However,if the validation set is too small,it may not accurately represent the test set,leading to less reliable predictions of accuracy. It's important to find the right balance between the sizes of the train and validation sets for accurate predictions."
      ],
      "metadata": {
        "id": "YNyNCRifzYMa"
      }
    },
    {
      "cell_type": "code",
      "source": [
        "import numpy as np\n",
        "from sklearn.model_selection import train_test_split\n",
        "from sklearn.linear_model import LogisticRegression\n",
        "from sklearn.metrics import accuracy_score\n",
        "x,y=np.random.rand(100,10),np.random.randint(0,2,100)\n",
        "train_sizes=[0.2,0.4,0.6,0.8]\n",
        "for train_size in train_sizes:\n",
        "  x_train,x_val,y_train,y_val=train_test_split(x,y,train_size=train_size,random_state=42)\n",
        "  model = LogisticRegression()\n",
        "  model.fit(x_train,y_train)\n",
        "  y_pred=model.predict(x_val)\n",
        "  accuracy = accuracy_score(y_val,y_pred)\n",
        "  print(f\"Training Set Size: {train_size * 100}% | Accuracy: {accuracy * 100:2f}%\")"
      ],
      "metadata": {
        "id": "6fmrWcpO3XCL",
        "colab": {
          "base_uri": "https://localhost:8080/"
        },
        "outputId": "9e3d4b4d-f08f-43c9-e721-ac608713ad98"
      },
      "execution_count": null,
      "outputs": [
        {
          "output_type": "stream",
          "name": "stdout",
          "text": [
            "Training Set Size: 20.0% | Accuracy: 40.000000%\n",
            "Training Set Size: 40.0% | Accuracy: 33.333333%\n",
            "Training Set Size: 60.0% | Accuracy: 40.000000%\n",
            "Training Set Size: 80.0% | Accuracy: 60.000000%\n"
          ]
        }
      ]
    },
    {
      "cell_type": "markdown",
      "source": [
        "# **QUESTION-3:**\n",
        "# **What do you think is a good percentage to reserve for the validation set so that these two factors are balanced?**\n",
        "\n",
        "**Ans:** It's hard to give an exact percentage since it can vary depending on the specific dataset and problem.But a common practice is to reserve around 20-30% of the data for the validation data set.This allows for a sufficient amount of data for training while also providing a sizable portion for validation.It's always a good idea to experiment with different percentages to find the best balance for your specific scenario."
      ],
      "metadata": {
        "id": "tqW3Q87D3YQj"
      }
    },
    {
      "cell_type": "code",
      "source": [
        "import numpy as np\n",
        "from sklearn.model_selection import train_test_split\n",
        "from sklearn.linear_model import LogisticRegression\n",
        "from sklearn.metrics import accuracy_score\n",
        "x,y = np.random.rand(100,10),np.random.randint(0,2,100)\n",
        "validation_percentages = [0.1,0.15,0.2,0.25,0.3]\n",
        "best_accuracy=0\n",
        "best_val_percentage=0\n",
        "for val_percentage in validation_percentages:\n",
        "  x_train,x_val,y_train,y_val = train_test_split(x,y,test_size=val_percentage,random_state=42)\n",
        "  model= LogisticRegression()\n",
        "  model.fit(x_train,y_train)\n",
        "  y_pred=model.predict(x_val)\n",
        "  accuracy = accuracy_score(y_val, y_pred)\n",
        "  if accuracy > best_accuracy:\n",
        "    best_accuracy=accuracy\n",
        "    best_val_percentage=val_percentage\n",
        "  print(f\"Best Validation Set Percentage: {best_val_percentage * 100}% | Best_Accuracy: {best_accuracy * 100:.2f}%\")"
      ],
      "metadata": {
        "colab": {
          "base_uri": "https://localhost:8080/"
        },
        "outputId": "8a5b2c0a-5fe3-4eb7-8f24-9917a5d8ca8f",
        "id": "YYsl6eIO5AJ9"
      },
      "execution_count": null,
      "outputs": [
        {
          "output_type": "stream",
          "name": "stdout",
          "text": [
            "Best Validation Set Percentage: 10.0% | Best_Accuracy: 40.00%\n",
            "Best Validation Set Percentage: 15.0% | Best_Accuracy: 46.67%\n",
            "Best Validation Set Percentage: 20.0% | Best_Accuracy: 55.00%\n",
            "Best Validation Set Percentage: 25.0% | Best_Accuracy: 56.00%\n",
            "Best Validation Set Percentage: 25.0% | Best_Accuracy: 56.00%\n"
          ]
        }
      ]
    },
    {
      "cell_type": "markdown",
      "metadata": {
        "id": "PnYvkAZLQY7h"
      },
      "source": [
        "## Multiple Splits\n",
        "\n",
        "One way to get more accurate estimates for the test accuracy is by using <b>crossvalidation</b>. Here, we will try a simple version, where we do multiple train/val splits and take the average of validation accuracies as the test accuracy estimation. Here is a function for doing this. Note that this function will take a long time to execute."
      ]
    },
    {
      "cell_type": "code",
      "metadata": {
        "id": "E4nGCUQXBTzo"
      },
      "source": [
        "# you can use this function for random classifier also\n",
        "def AverageAccuracy(alldata, alllabel, splitpercent, iterations, classifier=NN):\n",
        "  accuracy = 0\n",
        "  for ii in range(iterations):\n",
        "    traindata, trainlabel, valdata, vallabel = split(alldata, alllabel, splitpercent)\n",
        "    valpred = classifier(traindata, trainlabel, valdata)\n",
        "    accuracy += Accuracy(vallabel, valpred)\n",
        "  return accuracy/iterations # average of all accuracies"
      ],
      "execution_count": null,
      "outputs": []
    },
    {
      "cell_type": "code",
      "metadata": {
        "id": "H3qtNar7Bbik",
        "colab": {
          "base_uri": "https://localhost:8080/"
        },
        "outputId": "c7e0a200-35a9-41fe-e365-8d3f1182a3da"
      },
      "source": [
        "print('Average validation accuracy is ', AverageAccuracy(alltraindata, alltrainlabel, 75/100, 10, classifier=NN))\n",
        "testpred = NN(alltraindata, alltrainlabel, testdata)\n",
        "print('test accuracy is ',Accuracy(testlabel, testpred) )"
      ],
      "execution_count": null,
      "outputs": [
        {
          "output_type": "stream",
          "name": "stdout",
          "text": [
            "Average validation accuracy is  0.33584635395170215\n",
            "test accuracy is  0.34917953667953666\n"
          ]
        }
      ]
    },
    {
      "cell_type": "markdown",
      "metadata": {
        "id": "33GIn4x5VH-d"
      },
      "source": [
        "This is a very simple way of doing cross-validation. There are many well-known algorithms for cross-validation, like k-fold cross-validation, leave-one-out etc. This will be covered in detail in a later module. For more information about cross-validation, check <a href=https://en.wikipedia.org/wiki/Cross-validation_(statistics)>Cross-validatioin (Wikipedia)</a>\n",
        "\n",
        "### Questions\n",
        "1. Does averaging the validation accuracy across multiple splits give more consistent results?\n",
        "2. Does it give more accurate estimate of test accuracy?\n",
        "3. What is the effect of the number of iterations on the estimate? Do we get a better estimate with higher iterations?\n",
        "4. Consider the results you got for the previous questions. Can we deal with a very small train dataset or validation dataset by increasing the iterations?\n"
      ]
    },
    {
      "cell_type": "markdown",
      "source": [
        "# **QUESTION-1:**\n",
        "\n",
        "**Does averaging the validation accuracy across multiple splits give more consistent results?**\n",
        "\n",
        "**Ans:** YES.\n",
        "\n",
        "Averaging the validation accuracy across multiple splits can give more consistent results. By performing multiple splits of the data into train and validation sets and calculating the accuracy for each split,we can reduce the impact of randomness and obtain a more reliable estimate of the model's performance. It helps to get a better understanding of how the model generalizes to different subsets of the data."
      ],
      "metadata": {
        "id": "g8uj81fA5OX1"
      }
    },
    {
      "cell_type": "code",
      "source": [
        "import numpy as h\n",
        "from sklearn.model_selection import cross_val_score\n",
        "from sklearn.linear_model import LogisticRegression\n",
        "x,y=h.random.rand(100,10),h.random.randint(0,2,100)\n",
        "model=LogisticRegression()\n",
        "k=5\n",
        "accuracies= cross_val_score(model,x,y,cv=k)\n",
        "avg_accuracy=h.mean(accuracies)\n",
        "std_dev=h.std(accuracies)\n",
        "print(f\"Average Accuracy: {avg_accuracy * 100:2f}%\")\n",
        "print(f\"Standard Deviation: {std_dev * 100:2f}%\")"
      ],
      "metadata": {
        "id": "iRaaatRd62TP",
        "colab": {
          "base_uri": "https://localhost:8080/"
        },
        "outputId": "4e4d0f33-8621-4740-8843-a8c8da1ab933"
      },
      "execution_count": null,
      "outputs": [
        {
          "output_type": "stream",
          "name": "stdout",
          "text": [
            "Average Accuracy: 46.000000%\n",
            "Standard Deviation: 8.602325%\n"
          ]
        }
      ]
    },
    {
      "cell_type": "markdown",
      "source": [
        "# **QUESTION-2:**\n",
        "\n",
        "**Does it give more accurate estimate of test accuracy?**\n",
        "\n",
        "**Ans:** YES.\n",
        "\n",
        "Averaging the validation accuracy across multiple splits can provide a more accurate estimate of the test accuracy. By evaluating the model's performance on different subsets of the data, we can get a better sense of its generalization ability. This helps to reduce the impact of any specific split and provides a more reliable estimation of how the model will perform on unseen data."
      ],
      "metadata": {
        "id": "bn1uED4b627J"
      }
    },
    {
      "cell_type": "code",
      "source": [
        "import numpy as h\n",
        "from sklearn.model_selection import cross_val_score\n",
        "from sklearn.linear_model import LogisticRegression\n",
        "from sklearn.model_selection import StratifiedKFold\n",
        "x,y=h.random.rand(100,10),h.random.randint(0,2,100)\n",
        "param_grid={'C': [0.001,0.01,0.1,1,10]}\n",
        "model=LogisticRegression()\n",
        "n_splits=5\n",
        "stratified_kfold=StratifiedKFold(n_splits=n_splits,shuffle=True,random_state=42)\n",
        "test_accuracies=cross_val_score(model,x,y,cv=stratified_kfold)\n",
        "avg_test_accuracy=h.mean(test_accuracies)\n",
        "std_dev_test_accuracy=h.std(test_accuracies)\n",
        "print(f\"Average Test Accuracy: {avg_test_accuracy * 100:2f}%\")\n",
        "print(f\"Standard Deviation of Test Accuracy: {std_dev_test_accuracy * 100:2f}%\")"
      ],
      "metadata": {
        "colab": {
          "base_uri": "https://localhost:8080/"
        },
        "outputId": "010d6922-6ad9-4c56-b0f1-c50f2c77e4df",
        "id": "DL8I8oJX9DF4"
      },
      "execution_count": null,
      "outputs": [
        {
          "output_type": "stream",
          "name": "stdout",
          "text": [
            "Average Test Accuracy: 45.000000%\n",
            "Standard Deviation of Test Accuracy: 3.162278%\n"
          ]
        }
      ]
    },
    {
      "cell_type": "markdown",
      "source": [
        "# **QUESTION-3:**\n",
        "\n",
        "# **What is the effect of the number of iterations on the estimate? Do we get a better estimate with higher iterations?**\n",
        "\n",
        "**Ans:** With higher iterations,we might get a better estimate of the model's performance.More iterations allow the model to learn from the data in greater detail and make finer adjustments to improve its accuracy. However,there is a point of diminshing returns,where increasing iterations may not significantly improve the estimate and may even lead to overfitting. It's important to find the right balance between the number of iterations and the model's performance."
      ],
      "metadata": {
        "id": "QX5Np66B8MjL"
      }
    },
    {
      "cell_type": "code",
      "source": [
        "import random\n",
        "def estimate_average(iterations):\n",
        "  total_sum=0\n",
        "  for i in range(iterations):\n",
        "      random_number=random.uniform(0,1)\n",
        "      total_sum +=random_number\n",
        "  average_estimate=total_sum/iterations\n",
        "  return average_estimate\n",
        "h=[100,1000,10000,100000,1000000]\n",
        "for iterations in h:\n",
        "  avg_estimate = estimate_average(iterations)\n",
        "  print(f\"Iterations: {iterations},Estimated Average: {avg_estimate}\")\n"
      ],
      "metadata": {
        "colab": {
          "base_uri": "https://localhost:8080/"
        },
        "id": "BTkuvw_4oSnj",
        "outputId": "7deaa658-9f33-4a68-dcae-4c573fcd0fc6"
      },
      "execution_count": null,
      "outputs": [
        {
          "output_type": "stream",
          "name": "stdout",
          "text": [
            "Iterations: 100,Estimated Average: 0.4896658088222076\n",
            "Iterations: 1000,Estimated Average: 0.5005167391697541\n",
            "Iterations: 10000,Estimated Average: 0.5017757121197657\n",
            "Iterations: 100000,Estimated Average: 0.5003442606347793\n",
            "Iterations: 1000000,Estimated Average: 0.4996840308018541\n"
          ]
        }
      ]
    },
    {
      "cell_type": "markdown",
      "source": [
        "# **QUESTION-4:**\n",
        "\n",
        "# **Consider the results you got for the previous questions. Can we deal with a very small train dataset or validation dataset by increasing the iterations?**\n",
        "\n",
        "**Ans:** YES.\n",
        "\n",
        "Increasing the iterations can help mitigate the impact of a small train or validation dataset to some extent.By allowing the model to go through more iterations,it gets more opportunities to learn from the available data make better predictions. However,it's important to note that while increasing iterations can compensate for small datasets to some degree,it is still crucial to have a sufficiently sized dataset for accurate model training and validation."
      ],
      "metadata": {
        "id": "Xg3R_b_PoTPf"
      }
    },
    {
      "cell_type": "code",
      "source": [
        "import numpy as h\n",
        "def generate_random_data(num_points):\n",
        "  x=h.random.rand(num_points)\n",
        "  y = 2 * x + 1 + h.random.randn(num_points) * 0.1\n",
        "  return x,y\n",
        "iterations=10\n",
        "x_train,y_train=generate_random_data(iterations)\n",
        "for i in range(iterations):\n",
        "  print(f\"Data Point {i+1}: X={x_train[i]},Y={y_train[i]}\")"
      ],
      "metadata": {
        "colab": {
          "base_uri": "https://localhost:8080/"
        },
        "id": "XqAjwIAlpBFp",
        "outputId": "11b522d2-bc0d-4cfa-8531-843755e4a720"
      },
      "execution_count": null,
      "outputs": [
        {
          "output_type": "stream",
          "name": "stdout",
          "text": [
            "Data Point 1: X=0.5573046545917625,Y=2.0557284788587595\n",
            "Data Point 2: X=0.4324522433164001,Y=1.9284694274846264\n",
            "Data Point 3: X=0.2978077610161257,Y=1.5171663352802514\n",
            "Data Point 4: X=0.1121096074306025,Y=1.318516102218591\n",
            "Data Point 5: X=0.1611347101318391,Y=1.1791894117950947\n",
            "Data Point 6: X=0.8294574969253435,Y=2.8700108584269906\n",
            "Data Point 7: X=0.1425566913993449,Y=1.2589508356682517\n",
            "Data Point 8: X=0.8172982793951008,Y=2.6621503750454787\n",
            "Data Point 9: X=0.6946953285561458,Y=2.2534863894660804\n",
            "Data Point 10: X=0.45978078674288725,Y=1.9608262132489578\n"
          ]
        }
      ]
    }
  ]
}